{
 "cells": [
  {
   "cell_type": "code",
   "execution_count": null,
   "metadata": {
    "collapsed": false
   },
   "outputs": [],
   "source": [
    "%load_ext autoreload\n",
    "%autoreload 2\n",
    "import etherscan.accounts as accounts\n",
    "import json"
   ]
  },
  {
   "cell_type": "markdown",
   "metadata": {},
   "source": [
    "## Import our api_key"
   ]
  },
  {
   "cell_type": "markdown",
   "metadata": {},
   "source": [
    "The JSON keyfile being read in has only one line in the format:\n",
    "    \n",
    "    {\"key\" : \"YourApiKey\" }"
   ]
  },
  {
   "cell_type": "code",
   "execution_count": 2,
   "metadata": {
    "collapsed": false
   },
   "outputs": [
    {
     "ename": "FileNotFoundError",
     "evalue": "[Errno 2] No such file or directory: '../../api_key.json'",
     "traceback": [
      "\u001b[0;31m---------------------------------------------------------------------------\u001b[0m",
      "\u001b[0;31mFileNotFoundError\u001b[0m                         Traceback (most recent call last)",
      "\u001b[0;32m<ipython-input-2-772fcfc60c6b>\u001b[0m in \u001b[0;36m<module>\u001b[0;34m()\u001b[0m\n\u001b[0;32m----> 1\u001b[0;31m \u001b[0;32mwith\u001b[0m \u001b[0mopen\u001b[0m\u001b[0;34m(\u001b[0m\u001b[0;34m'../../api_key.json'\u001b[0m\u001b[0;34m,\u001b[0m \u001b[0mmode\u001b[0m\u001b[0;34m=\u001b[0m\u001b[0;34m'r'\u001b[0m\u001b[0;34m)\u001b[0m \u001b[0;32mas\u001b[0m \u001b[0mkey_file\u001b[0m\u001b[0;34m:\u001b[0m\u001b[0;34m\u001b[0m\u001b[0m\n\u001b[0m\u001b[1;32m      2\u001b[0m     \u001b[0mkey\u001b[0m \u001b[0;34m=\u001b[0m \u001b[0mjson\u001b[0m\u001b[0;34m.\u001b[0m\u001b[0mloads\u001b[0m\u001b[0;34m(\u001b[0m\u001b[0mkey_file\u001b[0m\u001b[0;34m.\u001b[0m\u001b[0mread\u001b[0m\u001b[0;34m(\u001b[0m\u001b[0;34m)\u001b[0m\u001b[0;34m)\u001b[0m\u001b[0;34m[\u001b[0m\u001b[0;34m'key'\u001b[0m\u001b[0;34m]\u001b[0m\u001b[0;34m\u001b[0m\u001b[0m\n",
      "\u001b[0;31mFileNotFoundError\u001b[0m: [Errno 2] No such file or directory: '../../api_key.json'"
     ],
     "output_type": "error"
    }
   ],
   "source": [
    "with open('../../api_key.json', mode='r') as key_file:\n",
    "    key = json.loads(key_file.read())['key']"
   ]
  },
  {
   "cell_type": "markdown",
   "metadata": {},
   "source": [
    "## Setup api for single address"
   ]
  },
  {
   "cell_type": "code",
   "execution_count": 16,
   "metadata": {
    "collapsed": false
   },
   "outputs": [],
   "source": [
    "address = '0x9dd134d14d1e65f84b706d6f205cd5b1cd03a46b'\n",
    "api = accounts.Account(address=address, api_key=key)"
   ]
  },
  {
   "cell_type": "markdown",
   "metadata": {},
   "source": [
    "## Get the balance"
   ]
  },
  {
   "cell_type": "code",
   "execution_count": 17,
   "metadata": {
    "collapsed": false,
    "scrolled": false
   },
   "outputs": [
    {
     "data": {
      "text/plain": [
       "'1416845749966260146664'"
      ]
     },
     "execution_count": 17,
     "metadata": {},
     "output_type": "execute_result"
    }
   ],
   "source": [
    "api.get_balance()"
   ]
  },
  {
   "cell_type": "markdown",
   "metadata": {},
   "source": [
    "## Collect transactions"
   ]
  },
  {
   "cell_type": "code",
   "execution_count": 26,
   "metadata": {
    "collapsed": false
   },
   "outputs": [
    {
     "data": {
      "text/plain": [
       "[{'blockHash': '0x866595af1d2db58574c6ce73d77a965db53f0ed882714060405f737285837583',\n",
       "  'blockNumber': '80055',\n",
       "  'confirmations': '1695998',\n",
       "  'contractAddress': '',\n",
       "  'cumulativeGasUsed': '85575',\n",
       "  'from': '0x9dd134d14d1e65f84b706d6f205cd5b1cd03a46b',\n",
       "  'gas': '90000',\n",
       "  'gasPrice': '55098633173',\n",
       "  'gasUsed': '21000',\n",
       "  'hash': '0xcff7bab07a096e4c01dd6a76befb2c0b11ebeec5bbb38b592f6daaa755ba60b6',\n",
       "  'input': '0x',\n",
       "  'isError': '0',\n",
       "  'nonce': '0',\n",
       "  'timeStamp': '1439479435',\n",
       "  'to': '0xa6bdc31c431b8f97848c9d60cbbe9660dc450eb7',\n",
       "  'transactionIndex': '2',\n",
       "  'value': '95000000000000000000'},\n",
       " {'blockHash': '0xc88c09ae97eb685a52a8d7c3e82cfbf2917deac1a24fc24ec134caa001a0a4fa',\n",
       "  'blockNumber': '313661',\n",
       "  'confirmations': '1462392',\n",
       "  'contractAddress': '',\n",
       "  'cumulativeGasUsed': '21000',\n",
       "  'from': '0x9dd134d14d1e65f84b706d6f205cd5b1cd03a46b',\n",
       "  'gas': '90000',\n",
       "  'gasPrice': '50000000000',\n",
       "  'gasUsed': '21000',\n",
       "  'hash': '0x8347079dee0a85c0b643e44e37ec18d423392028c22b1caae0d642f9114b6617',\n",
       "  'input': '0x',\n",
       "  'isError': '0',\n",
       "  'nonce': '1',\n",
       "  'timeStamp': '1443641229',\n",
       "  'to': '0xa6bdc31c431b8f97848c9d60cbbe9660dc450eb7',\n",
       "  'transactionIndex': '0',\n",
       "  'value': '10170000000000000000'},\n",
       " {'blockHash': '0x27e09b7878e445be37758cc8ca15672cf67ea51675a8060c258b43d4b810b682',\n",
       "  'blockNumber': '477938',\n",
       "  'confirmations': '1298115',\n",
       "  'contractAddress': '',\n",
       "  'cumulativeGasUsed': '21000',\n",
       "  'from': '0x9dd134d14d1e65f84b706d6f205cd5b1cd03a46b',\n",
       "  'gas': '90000',\n",
       "  'gasPrice': '50000000000',\n",
       "  'gasUsed': '21000',\n",
       "  'hash': '0x578239b66f3119baa5783136a33f00b3bb71068e77dc4d06d3a761e8d81c6028',\n",
       "  'input': '0x',\n",
       "  'isError': '0',\n",
       "  'nonce': '2',\n",
       "  'timeStamp': '1446457828',\n",
       "  'to': '0xa6bdc31c431b8f97848c9d60cbbe9660dc450eb7',\n",
       "  'transactionIndex': '0',\n",
       "  'value': '20000000000000000000'},\n",
       " {'blockHash': '0x7eec9a784f21a63ce07876e535b8a9b7b6d9ef8a3a2ba5fa82d9b732084ae645',\n",
       "  'blockNumber': '477942',\n",
       "  'confirmations': '1298111',\n",
       "  'contractAddress': '',\n",
       "  'cumulativeGasUsed': '189000',\n",
       "  'from': '0x9dd134d14d1e65f84b706d6f205cd5b1cd03a46b',\n",
       "  'gas': '90000',\n",
       "  'gasPrice': '50000000000',\n",
       "  'gasUsed': '21000',\n",
       "  'hash': '0x291e0df6d7466081a636a2f9764623365892ba167b97757ea578459597027ff7',\n",
       "  'input': '0x',\n",
       "  'isError': '0',\n",
       "  'nonce': '3',\n",
       "  'timeStamp': '1446457892',\n",
       "  'to': '0xa6bdc31c431b8f97848c9d60cbbe9660dc450eb7',\n",
       "  'transactionIndex': '8',\n",
       "  'value': '80000000000000000000'},\n",
       " {'blockHash': '0x8ff4b0752b37ac49ca24a1d90bfce8ff8da3857e4bf8982db15037558120f9d7',\n",
       "  'blockNumber': '852036',\n",
       "  'confirmations': '924017',\n",
       "  'contractAddress': '',\n",
       "  'cumulativeGasUsed': '228382',\n",
       "  'from': '0x9dd134d14d1e65f84b706d6f205cd5b1cd03a46b',\n",
       "  'gas': '90000',\n",
       "  'gasPrice': '50000000000',\n",
       "  'gasUsed': '21000',\n",
       "  'hash': '0x8f41b9b6b966848cf85cce0e5d2ce3e381fbd5d90a5a851c398245a65bc34f21',\n",
       "  'input': '0x',\n",
       "  'isError': '0',\n",
       "  'nonce': '4',\n",
       "  'timeStamp': '1452860882',\n",
       "  'to': '0xa6bdc31c431b8f97848c9d60cbbe9660dc450eb7',\n",
       "  'transactionIndex': '2',\n",
       "  'value': '500000000000000000000'},\n",
       " {'blockHash': '0x8d50c06f5f3f502578cb44ce86ab9e5b6ce517571cb2e856ebce914938ff3209',\n",
       "  'blockNumber': '852377',\n",
       "  'confirmations': '923676',\n",
       "  'contractAddress': '',\n",
       "  'cumulativeGasUsed': '21000',\n",
       "  'from': '0x9dd134d14d1e65f84b706d6f205cd5b1cd03a46b',\n",
       "  'gas': '90000',\n",
       "  'gasPrice': '50000000000',\n",
       "  'gasUsed': '21000',\n",
       "  'hash': '0xf2d59f05e8b3d85c4dccf4ce3024fb2ac017e65ba77d771f799d2f519001bca1',\n",
       "  'input': '0x',\n",
       "  'isError': '0',\n",
       "  'nonce': '5',\n",
       "  'timeStamp': '1452866973',\n",
       "  'to': '0xa6bdc31c431b8f97848c9d60cbbe9660dc450eb7',\n",
       "  'transactionIndex': '0',\n",
       "  'value': '1331000000000000000000'},\n",
       " {'blockHash': '0xd0dcdb42d3904d40b54f306df90341b112be68983ffe89741ff75f13031b8ed4',\n",
       "  'blockNumber': '1027746',\n",
       "  'confirmations': '748307',\n",
       "  'contractAddress': '',\n",
       "  'cumulativeGasUsed': '21000',\n",
       "  'from': '0x9dd134d14d1e65f84b706d6f205cd5b1cd03a46b',\n",
       "  'gas': '90000',\n",
       "  'gasPrice': '50000000000',\n",
       "  'gasUsed': '21000',\n",
       "  'hash': '0xb826ac26b51403a3129eff371416ce0e8bc541706d91823324fda47f6f995a38',\n",
       "  'input': '0x',\n",
       "  'isError': '0',\n",
       "  'nonce': '6',\n",
       "  'timeStamp': '1455885900',\n",
       "  'to': '0xa6bdc31c431b8f97848c9d60cbbe9660dc450eb7',\n",
       "  'transactionIndex': '0',\n",
       "  'value': '500000000000000000'},\n",
       " {'blockHash': '0x3b2d7511f832a427f378a91e5204e54d2ee6527b0ab497c87a873ac4c5b4e9b6',\n",
       "  'blockNumber': '1027845',\n",
       "  'confirmations': '748208',\n",
       "  'contractAddress': '',\n",
       "  'cumulativeGasUsed': '21000',\n",
       "  'from': '0x9dd134d14d1e65f84b706d6f205cd5b1cd03a46b',\n",
       "  'gas': '90000',\n",
       "  'gasPrice': '50000000000',\n",
       "  'gasUsed': '21000',\n",
       "  'hash': '0x198ba99c8cff79068ed34b66ac8d2b24b6d2a6feea14321bd0d7aed3ff78da32',\n",
       "  'input': '0x',\n",
       "  'isError': '0',\n",
       "  'nonce': '7',\n",
       "  'timeStamp': '1455887518',\n",
       "  'to': '0xa6bdc31c431b8f97848c9d60cbbe9660dc450eb7',\n",
       "  'transactionIndex': '0',\n",
       "  'value': '45300000000000000000'},\n",
       " {'blockHash': '0x863f7035115b36710d46235c7cab3aa5dc1c1dcc4924b1270be96ca91d8e3e4f',\n",
       "  'blockNumber': '1145121',\n",
       "  'confirmations': '630932',\n",
       "  'contractAddress': '',\n",
       "  'cumulativeGasUsed': '84000',\n",
       "  'from': '0x9dd134d14d1e65f84b706d6f205cd5b1cd03a46b',\n",
       "  'gas': '121000',\n",
       "  'gasPrice': '20000000000',\n",
       "  'gasUsed': '21000',\n",
       "  'hash': '0x5c0df4a8704ea223b58d0d50b65db5472bfd8c0322fe95fd0419d682108475af',\n",
       "  'input': '0x',\n",
       "  'isError': '0',\n",
       "  'nonce': '8',\n",
       "  'timeStamp': '1457898253',\n",
       "  'to': '0xa6bdc31c431b8f97848c9d60cbbe9660dc450eb7',\n",
       "  'transactionIndex': '3',\n",
       "  'value': '155000000000000000000'},\n",
       " {'blockHash': '0x78a2a4537ae58e66d991e8ccdbe447078863a60b37cd3e187c2e2d8f740d29d2',\n",
       "  'blockNumber': '1203404',\n",
       "  'confirmations': '572649',\n",
       "  'contractAddress': '',\n",
       "  'cumulativeGasUsed': '21000',\n",
       "  'from': '0x9dd134d14d1e65f84b706d6f205cd5b1cd03a46b',\n",
       "  'gas': '121000',\n",
       "  'gasPrice': '20000000000',\n",
       "  'gasUsed': '21000',\n",
       "  'hash': '0x613ad39823b8e22ce259d4845141f87e0b53c957976037a23bc438d3bd7d5838',\n",
       "  'input': '0x',\n",
       "  'isError': '0',\n",
       "  'nonce': '9',\n",
       "  'timeStamp': '1458750498',\n",
       "  'to': '0xa6bdc31c431b8f97848c9d60cbbe9660dc450eb7',\n",
       "  'transactionIndex': '0',\n",
       "  'value': '208000000000000000000'}]"
      ]
     },
     "execution_count": 26,
     "metadata": {},
     "output_type": "execute_result"
    }
   ],
   "source": [
    "api.get_transaction_page(page=1, offset=10)"
   ]
  },
  {
   "cell_type": "code",
   "execution_count": 27,
   "metadata": {
    "collapsed": false,
    "scrolled": false
   },
   "outputs": [
    {
     "name": "stdout",
     "output_type": "stream",
     "text": [
      "page 1 added\n",
      "Total number of transactions: 38\n"
     ]
    }
   ],
   "source": [
    "trans = api.get_all_transactions()"
   ]
  },
  {
   "cell_type": "markdown",
   "metadata": {},
   "source": [
    "## Collect blocks mined"
   ]
  },
  {
   "cell_type": "code",
   "execution_count": 19,
   "metadata": {
    "collapsed": false
   },
   "outputs": [
    {
     "data": {
      "text/plain": [
       "[{'blockNumber': '1761744',\n",
       "  'blockReward': '5000441000000000000',\n",
       "  'timeStamp': '1466757302'},\n",
       " {'blockNumber': '1712153',\n",
       "  'blockReward': '5028581000000000000',\n",
       "  'timeStamp': '1466044092'},\n",
       " {'blockNumber': '1712127',\n",
       "  'blockReward': '5010559500000000000',\n",
       "  'timeStamp': '1466043732'},\n",
       " {'blockNumber': '1711534',\n",
       "  'blockReward': '5014736422000000000',\n",
       "  'timeStamp': '1466034972'},\n",
       " {'blockNumber': '1710278',\n",
       "  'blockReward': '5002961000000000000',\n",
       "  'timeStamp': '1466016869'},\n",
       " {'blockNumber': '1710108',\n",
       "  'blockReward': '5001909425000000000',\n",
       "  'timeStamp': '1466014298'},\n",
       " {'blockNumber': '1704991',\n",
       "  'blockReward': '5000000000000000000',\n",
       "  'timeStamp': '1465941505'},\n",
       " {'blockNumber': '1704535',\n",
       "  'blockReward': '5001708460000000000',\n",
       "  'timeStamp': '1465935106'},\n",
       " {'blockNumber': '1704050',\n",
       "  'blockReward': '5000420000000000000',\n",
       "  'timeStamp': '1465928330'},\n",
       " {'blockNumber': '1703174',\n",
       "  'blockReward': '5044790580000000000',\n",
       "  'timeStamp': '1465915457'}]"
      ]
     },
     "execution_count": 19,
     "metadata": {},
     "output_type": "execute_result"
    }
   ],
   "source": [
    "api.get_blocks_mined_page(page=1, offset=10,)"
   ]
  },
  {
   "cell_type": "code",
   "execution_count": 22,
   "metadata": {
    "collapsed": false,
    "scrolled": true
   },
   "outputs": [
    {
     "name": "stdout",
     "output_type": "stream",
     "text": [
      "OK\n",
      "page 1 added\n",
      "No transactions found\n",
      "Total number of blocks mined: 927\n"
     ]
    }
   ],
   "source": [
    "blocks_mined = api.get_all_blocks_mined()"
   ]
  },
  {
   "cell_type": "markdown",
   "metadata": {},
   "source": [
    "## Re-initiate api for multiple addresses"
   ]
  },
  {
   "cell_type": "code",
   "execution_count": 23,
   "metadata": {
    "collapsed": false
   },
   "outputs": [
    {
     "data": {
      "text/plain": [
       "[{'account': '0xbb9bc244d798123fde783fcc1c72d3bb8c189413', 'balance': '1'},\n",
       " {'account': '0xddbd2b932c763ba5b1b7ae3b362eac3e8d40121a',\n",
       "  'balance': '40807174501130000000000'}]"
      ]
     },
     "execution_count": 23,
     "metadata": {},
     "output_type": "execute_result"
    }
   ],
   "source": [
    "addresses = ['0xbb9bc244d798123fde783fcc1c72d3bb8c189413', '0xddbd2b932c763ba5b1b7ae3b362eac3e8d40121a']\n",
    "api = accounts.Account(address=addresses, api_key=key)\n",
    "api.get_balance_multiple()"
   ]
  },
  {
   "cell_type": "code",
   "execution_count": null,
   "metadata": {
    "collapsed": true
   },
   "outputs": [],
   "source": [
    ""
   ]
  }
 ],
 "metadata": {
  "kernelspec": {
   "display_name": "Python 3",
   "language": "python",
   "name": "python3"
  },
  "language_info": {
   "codemirror_mode": {
    "name": "ipython",
    "version": 3
   },
   "file_extension": ".py",
   "mimetype": "text/x-python",
   "name": "python",
   "nbconvert_exporter": "python",
   "pygments_lexer": "ipython3",
   "version": "3.5.2"
  },
  "latex_envs": {
   "bibliofile": "biblio.bib",
   "cite_by": "apalike",
   "current_citInitial": 1.0,
   "eqLabelWithNumbers": true,
   "eqNumInitial": 0.0
  },
  "toc": {
   "nav_menu": {
    "height": "121px",
    "width": "252px"
   },
   "navigate_menu": true,
   "number_sections": true,
   "sideBar": true,
   "threshold": 4.0,
   "toc_cell": false,
   "toc_section_display": "block",
   "toc_window_display": false
  }
 },
 "nbformat": 4,
 "nbformat_minor": 0
}
